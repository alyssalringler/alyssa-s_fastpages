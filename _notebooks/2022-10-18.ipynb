{
 "cells": [
  {
   "cell_type": "markdown",
   "metadata": {},
   "source": [
    "# Fastpages Rapid API\n",
    "> A tutorial of fastpages for Jupyter notebooks.\n",
    "\n",
    "- toc: true \n",
    "- badges: true\n",
    "- comments: true\n",
    "- categories: [jupyter]\n",
    "- image: images/chart-preview.png"
   ]
  },
  {
   "cell_type": "code",
   "execution_count": 48,
   "metadata": {},
   "outputs": [
    {
     "name": "stdout",
     "output_type": "stream",
     "text": [
      "Language\n",
      "af afrikaans\n",
      "am amharic\n",
      "ar arabic\n",
      "az azerbaijani\n",
      "be belarusian\n",
      "bg bulgarian\n",
      "bn bengali\n",
      "bs bosnian\n",
      "ca catalan\n",
      "ceb cebuano\n",
      "co corsican\n",
      "cs czech\n",
      "cy welsh\n",
      "da danish\n",
      "de german\n",
      "el greek\n",
      "en english\n",
      "eo esperanto\n",
      "es spanish\n",
      "et estonian\n",
      "eu basque\n",
      "fa persian\n",
      "fi finnish\n",
      "fil Filipino\n",
      "fr french\n",
      "fy frisian\n",
      "ga irish\n",
      "gd scots gaelic\n",
      "gl galician\n",
      "gu gujarati\n",
      "ha hausa\n",
      "haw hawaiian\n",
      "he Hebrew\n",
      "hi hindi\n",
      "hmn hmong\n",
      "hr croatian\n",
      "ht haitian creole\n",
      "hu hungarian\n",
      "hy armenian\n",
      "id indonesian\n",
      "ig igbo\n",
      "is icelandic\n",
      "it italian\n",
      "iw hebrew\n",
      "ja japanese\n",
      "jw javanese\n",
      "ka georgian\n",
      "kk kazakh\n",
      "km khmer\n",
      "kn kannada\n",
      "ko korean\n",
      "ku kurdish (kurmanji)\n",
      "ky kyrgyz\n",
      "la latin\n",
      "lb luxembourgish\n",
      "lo lao\n",
      "lt lithuanian\n",
      "lv latvian\n",
      "mg malagasy\n",
      "mi maori\n",
      "mk macedonian\n",
      "ml malayalam\n",
      "mn mongolian\n",
      "mr marathi\n",
      "ms malay\n",
      "mt maltese\n",
      "my myanmar (burmese)\n",
      "ne nepali\n",
      "nl dutch\n",
      "no norwegian\n",
      "ny chichewa\n",
      "pa punjabi\n",
      "pl polish\n",
      "ps pashto\n",
      "pt portuguese\n",
      "ro romanian\n",
      "ru russian\n",
      "sd sindhi\n",
      "si sinhala\n",
      "sk slovak\n",
      "sl slovenian\n",
      "sm samoan\n",
      "sn shona\n",
      "so somali\n",
      "sq albanian\n",
      "sr serbian\n",
      "st sesotho\n",
      "su sundanese\n",
      "sv swedish\n",
      "sw swahili\n",
      "ta tamil\n",
      "te telugu\n",
      "tg tajik\n",
      "th thai\n",
      "tl filipino\n",
      "tr turkish\n",
      "uk ukrainian\n",
      "ur urdu\n",
      "uz uzbek\n",
      "vi vietnamese\n",
      "xh xhosa\n",
      "yi yiddish\n",
      "yo yoruba\n",
      "zh-cn chinese (simplified)\n",
      "zh-tw chinese (traditional)\n",
      "zu zulu\n"
     ]
    }
   ],
   "source": [
    "import requests\n",
    "\n",
    "url = \"https://simple-elegant-translation-service.p.rapidapi.com/getSupportedLanguages\"\n",
    "\n",
    "headers = {\n",
    "\t\"X-RapidAPI-Key\": \"86d3ab2249msh7a874a674f12b6bp1eecb3jsn43832942a1b9\",\n",
    "\t\"X-RapidAPI-Host\": \"simple-elegant-translation-service.p.rapidapi.com\"\n",
    "}\n",
    "\n",
    "response = requests.request(\"GET\", url, headers=headers)\n",
    "\n",
    "#print(response.text)\n",
    "\n",
    "print(\"Language\")\n",
    "languages = response.json().get('languages')\n",
    "for key, value in languages.items():\n",
    "        print(key, value)"
   ]
  }
 ],
 "metadata": {
  "kernelspec": {
   "display_name": "Python 3.10.6 64-bit",
   "language": "python",
   "name": "python3"
  },
  "language_info": {
   "codemirror_mode": {
    "name": "ipython",
    "version": 3
   },
   "file_extension": ".py",
   "mimetype": "text/x-python",
   "name": "python",
   "nbconvert_exporter": "python",
   "pygments_lexer": "ipython3",
   "version": "3.10.6"
  },
  "varInspector": {
   "cols": {
    "lenName": 16,
    "lenType": 16,
    "lenVar": 40
   },
   "kernels_config": {
    "python": {
     "delete_cmd_postfix": "",
     "delete_cmd_prefix": "del ",
     "library": "var_list.py",
     "varRefreshCmd": "print(var_dic_list())"
    },
    "r": {
     "delete_cmd_postfix": ") ",
     "delete_cmd_prefix": "rm(",
     "library": "var_list.r",
     "varRefreshCmd": "cat(var_dic_list()) "
    }
   },
   "types_to_exclude": [
    "module",
    "function",
    "builtin_function_or_method",
    "instance",
    "_Feature"
   ],
   "window_display": false
  },
  "vscode": {
   "interpreter": {
    "hash": "b0fa6594d8f4cbf19f97940f81e996739fb7646882a419484c72d19e05852a7e"
   }
  }
 },
 "nbformat": 4,
 "nbformat_minor": 4
}
